{
 "cells": [
  {
   "cell_type": "markdown",
   "metadata": {
    "colab_type": "text",
    "id": "sQbtgMtVEJm1"
   },
   "source": [
    "### Instructions:\n",
    "-  Please add your IDs to the file name `Assignment1_notebook1_[student_ID]` (double click the name above to edit).<br>\n",
    "-  <b>Do not violate the [honor code](http://suraj.lums.edu.pk/~cs311w05/AcademicRules.htm#_edn1) of LUMS University.</b><br>\n",
    "-  Write clear and well commented code<br>\n",
    "-  A viva may also be conducted.<br>\n",
    "-  All solutions should be written in this notebook.\n",
    "-  The output of all cells should be present in the version of the notebook you submit.\n",
    "\n",
    "### This assigment will cover the following topics:\n",
    "\n",
    "<ol>\n",
    "<li>Regular Expressions(Regexps)</li>\n",
    "<li>Minimum Edit Distance</li>\n",
    "<li>NLTK Introduction</li>    \n",
    "<li>Application using TF-IDF(Part 2)</li>\n",
    "</ol>\n"
   ]
  },
  {
   "cell_type": "code",
   "execution_count": 1,
   "metadata": {
    "colab": {},
    "colab_type": "code",
    "id": "rNdEWr7mEJm4"
   },
   "outputs": [],
   "source": [
    "import re\n",
    "import nltk"
   ]
  },
  {
   "cell_type": "markdown",
   "metadata": {
    "colab_type": "text",
    "id": "IHDiQlWoEJm7"
   },
   "source": [
    "## Regular Expressions\n",
    "Regular expressions (regex) are really powerful. You certainly had fun in quiz 1 with regex. And Python does have a regex [library](https://docs.python.org/2/library/re.html) for you. Use them whenever you can. A beautiful line of regex can replace a chunk of ugly code. Once you've sufficient experience with regex, only then you'll really appreciate its utility. In this part of the notebook, you'll get some hands on experience on regular expressions.<br>\n",
    "\n",
    "Specifically, you will develop the following:\n",
    "<ul>\n",
    "<li>A Regular expression engine that checks for balanced parenthesis</li>\n",
    "<li>Links Detection inside HTML</li>\n",
    "<li>A Word Finder</li>\n",
    "</ul>\n",
    "You may find the following links helpfull:\n",
    "<ul>\n",
    "    <li><a href=\"https://docs.python.org/3/library/re.html\">Regex Documentation</a></li>\n",
    "    <li><a href=\"https://www.w3schools.com/python/python_regex.asp\">W3 School</a></li>\n",
    "    <li><a href=\"https://www.geeksforgeeks.org/pattern-matching-python-regex/\">GeeksforGeeks</a></li>\n",
    "    <li><a href=\"https://ibb.co/p4BFdvs\">Assignment Solution</a></li>\n",
    "</ul>"
   ]
  },
  {
   "cell_type": "markdown",
   "metadata": {
    "colab_type": "text",
    "id": "OuWC1YlKEJm8"
   },
   "source": [
    "### i. Regular expression engine that checks for balanced parenthesis\n",
    "Whenever a parenthesis is missing while you code in your favorite editor, odds are your editor will catch it. The editor will try to say parenthesis are unbalanced somewhere. Here, you'll use regular expressions to mimic that behavior of your editor. Specifically, you'll check whether the parenthesis in input text are balanced. <br>\n",
    "You will develop a regular expression engine that checks for balanced parenthesis in a given text/string. If the parenthesis are balanced and properly ordered (see examples), the function should return True. <b>Note that you may only use regular expressions along with a few `for` loops.</b> <br>\n",
    "Examples:\n",
    "<blockquote>\n",
    "12((23323))6----Balanced\n",
    "<br>44{21])954---Unblanced\n",
    "</blockquote>\n"
   ]
  },
  {
   "cell_type": "code",
   "execution_count": 68,
   "metadata": {
    "colab": {},
    "colab_type": "code",
    "id": "A9vlZMMXEJm9"
   },
   "outputs": [
    {
     "data": {
      "text/plain": [
       "False"
      ]
     },
     "execution_count": 68,
     "metadata": {},
     "output_type": "execute_result"
    }
   ],
   "source": [
    "def balanced_paranthesis_checker(string):\n",
    "    \"\"\" Checks if parenthesis are balanced and properly ordered.\n",
    "    args:\n",
    "        string: str -- raw text\n",
    "    Outputs:\n",
    "        is_balanced: Bool --  (True if parenthesis are balanced and properly ordered)\n",
    "    \"\"\"\n",
    "    is_balanced = False\n",
    "    ## ***** START OF YOUR CODE **** ##\n",
    "    reg1=r'\\([^\\)\\(\\]\\[\\}\\{]*\\)'\n",
    "    reg2=r'\\[[^\\)\\(\\]\\[\\}\\{]*\\]'\n",
    "    reg3=r'\\{[^\\)\\(\\]\\[\\}\\{]*\\}'\n",
    "    for i in range(0,3):\n",
    "        string=re.sub(reg1,'',string)\n",
    "        string=re.sub(reg2,'',string)\n",
    "        string=re.sub(reg3,'',string)\n",
    "    reg4='[\\(\\)\\[\\]\\{\\}]'\n",
    "    lst=re.findall(reg4,string)\n",
    "    if lst== []:\n",
    "        return True\n",
    "    \n",
    "        \n",
    "    ## ***** END OF YOUR CODE ***** ##\n",
    "    return is_balanced"
   ]
  },
  {
   "cell_type": "markdown",
   "metadata": {
    "colab_type": "text",
    "id": "lBFMaWIUOhN1"
   },
   "source": [
    "Test your implementation."
   ]
  },
  {
   "cell_type": "code",
   "execution_count": 69,
   "metadata": {
    "colab": {},
    "colab_type": "code",
    "id": "qHa-93RzEJnA"
   },
   "outputs": [
    {
     "name": "stdout",
     "output_type": "stream",
     "text": [
      "Test passed 12{((22))} True\n",
      "Test passed 12{((22)) False\n",
      "Test passed [2123{(2(2)44)5}] True\n",
      "Test passed 12(22} False\n",
      "Test passed 12[(255)3)]} False\n"
     ]
    }
   ],
   "source": [
    "# ** Code Below is to test your implementation of balanced_paranthesis_checker (Do Not Modify). ** #\n",
    "tests=[('12{((22))}',True),('12{((22))',False),('[2123{(2(2)44)5}]',True),('12(22}',False),('12[(255)3)]}',False)]\n",
    "for string,truth in tests:\n",
    "    output=balanced_paranthesis_checker(string)\n",
    "    if(output!=None):\n",
    "        if(output==truth):\n",
    "            print(\"Test passed\",string,truth)\n",
    "        else:\n",
    "            print(\"Test Faild\",string,\"Expected:\",truth,\"Got:\",output)\n",
    "    else:\n",
    "        print(\"Check return type or solution is not implemented yet\")\n",
    "        break\n",
    "# ** Code Above is to test your implementation of balanced_paranthesis_checker (Do Not Modify). ** #"
   ]
  },
  {
   "cell_type": "markdown",
   "metadata": {
    "colab_type": "text",
    "id": "KLS-u695EJnE"
   },
   "source": [
    "### ii. Detect links inside HTML\n",
    "In many real world applications of Machine Learning, the very first stage (Data Extraction) may involve parsing raw HTML. You can use regex to extract useful information from HTML. Let's do so: <br>\n",
    "You are required to write a regexps to extract the links and the text name from the html of a page. \n",
    "<br>A html link is of the form:\n",
    "<br><blockquote>$\\text{<a href=\"https://lms.lums.edu.pk/portal\">LMS LUMS</a>}$</blockquote>\n",
    "<br>Here 'a' is the tag and href is an attribute which holds the link. The text name is LMS LUMS.\n",
    "<br><br>Text name can sometimes be hidden within multiple tags e.g\n",
    "<br><blockquote>$\\text{<a href=\"https://lms.lums.edu.pk/portal\"><h1><b>LMS LUMS</b></h1></a>}$</blockquote>\n",
    "<br>Here, the text name is hidden inside the tags 'h1' and 'b'.\n",
    "<br><br>Find all the links and the text name of the links in the following text.<br><blockquote>\n",
    "$\\text{<div class=\"portal\" role=\"navigation\" id='p-navigation'>}$<br>\n",
    "$\\text{<h3>Navigation</h3>}$<br>\n",
    "$\\text{<div class=\"body\">}$<br>\n",
    "$\\text{<ul>}$<br>\n",
    "$\\text{<li id=\"n-mainpage-description\"><a href=\"/wiki/Main_Page\" title=\"Visit the main page [z]\" accesskey=\"z\">Main page</a></li>}$<br>\n",
    "$\\text{<li id=\"n-contents\"><a href=\"/wiki/Portal:Contents\" title=\"Guides to browsing Wikipedia\">Contents</a></li>}$<br>\n",
    "$\\text{<li id=\"n-featuredcontent\"><a href=\"/wiki/Portal:Featured_content\" title=\"Featured content  the best of Wikipedia\">Featured content</a></li>}$<br>\n",
    "$\\text{<li id=\"n-currentevents\"><a href=\"/wiki/Portal:Current_events\" title=\"Find background information on current events\">Current events</a></li>}$<br>\n",
    "$\\text{<li id=\"n-randompage\"><a href=\"/wiki/Special:Random\" title=\"Load a random article [x]\" accesskey=\"x\">Random article</a></li>}$<br>\n",
    "$\\text{<li id=\"n-sitesupport\"><a href=\"//donate.wikimedia.org/wiki/Special:FundraiserRedirector?utm_source=donate&utm_medium=sidebar&utm_campaign=C13_en.wikipedia.org&uselang=en\" title=\"Support us\">Donate to Wikipedia</a></li>}$<br>\n",
    "$\\text{</ul>}$<br>\n",
    "$\\text{</div>}$<br>\n",
    "$\\text{</div>}$<br>\n",
    "</blockquote>\n",
    "The output of your solution should return the following list of tuples:<br><blockquote>\n",
    "$\\text{/wiki/Main_Page,Main page}$<br>\n",
    "$\\text{/wiki/Portal:Contents,Contents}$<br>\n",
    "$\\text{/wiki/Portal:Featured_content,Featured content}$<br>\n",
    "$\\text{/wiki/Portal:Current_events,Current events}$<br>\n",
    "$\\text{/wiki/Special:Random,Random article}$<br>\n",
    "$\\text{//donate.wikimedia.org/wiki/Special:FundraiserRedirector?utm_source=donate&utm_medium=sidebar&utm_campaign=C13_en.wikipedia.org&uselang=en,Donate to Wikipedia}$<br>\n",
    "</blockquote>\n",
    "Hint: You may need 2 regexps, one for link and one for text."
   ]
  },
  {
   "cell_type": "code",
   "execution_count": 4,
   "metadata": {
    "colab": {},
    "colab_type": "code",
    "id": "2SPEvcLiEJnF"
   },
   "outputs": [],
   "source": [
    "global str\n",
    "def link_text_detector(html):\n",
    "    \"\"\" Checks if parenthesis are balanced and properly ordered.\n",
    "    args:\n",
    "        html: str -- contains the html text\n",
    "    Outputs:\n",
    "        link_text_detector_list: list -- list of tupples (link ,text)\n",
    "    \"\"\"\n",
    "    link_text_detector_list = []\n",
    "    ## ***** START OF YOUR CODE **** ##\n",
    "    #print(len(re.findall(r'(href)',html)))\n",
    "    atags=re.findall('<a.*?</a>',html)\n",
    "    for tag in atags:\n",
    "        href=re.findall('(?<=href=)\\\"(.*?)\\\"',tag)\n",
    "        clickable=re.findall('(?<=>).*?(?=</)',tag)\n",
    "        print((href[0],clickable[0]))\n",
    "        link_text_detector_list.append((href[0],clickable[0]))\n",
    "    ## ***** END OF YOUR CODE ***** ##\n",
    "    return link_text_detector_list#returns tupple of url and text\n"
   ]
  },
  {
   "cell_type": "code",
   "execution_count": 5,
   "metadata": {
    "colab": {
     "base_uri": "https://localhost:8080/",
     "height": 35
    },
    "colab_type": "code",
    "id": "TRP6QAPVEJnI",
    "outputId": "188c9f20-9a3c-40c1-d70d-738019213701"
   },
   "outputs": [
    {
     "name": "stdout",
     "output_type": "stream",
     "text": [
      "('/wiki/Main_Page', 'Main page')\n",
      "('/wiki/Portal:Contents', 'Contents')\n",
      "('/wiki/Portal:Featured_content', 'Featured content')\n",
      "('/wiki/Portal:Current_events', 'Current events')\n",
      "('/wiki/Special:Random', 'Random article')\n",
      "('//donate.wikimedia.org/wiki/Special:FundraiserRedirector?utm_source=donate&utm_medium=sidebar&utm_campaign=C13_en.wikipedia.org&uselang=en', 'Donate to Wikipedia')\n",
      "Check Passed /wiki/Main_Page Main page\n",
      "Check Passed /wiki/Portal:Contents Contents\n",
      "Check Passed /wiki/Portal:Featured_content Featured content\n",
      "Check Passed /wiki/Portal:Current_events Current events\n",
      "Check Passed /wiki/Special:Random Random article\n",
      "Check Passed //donate.wikimedia.org/wiki/Special:FundraiserRedirector?utm_source=donate&utm_medium=sidebar&utm_campaign=C13_en.wikipedia.org&uselang=en Donate to Wikipedia\n"
     ]
    }
   ],
   "source": [
    "# ** Code Below is to test your implementation of link_text_detector (Do Not Modify). ** #\n",
    "html='''<div class=\"portal\" role=\"navigation\" id='p-navigation'>\n",
    "<h3>Navigation</h3>\n",
    "<div class=\"body\">\n",
    "<ul>\n",
    "<li id=\"n-mainpage-description\"><a href=\"/wiki/Main_Page\" title=\"Visit the main page [z]\" accesskey=\"z\">Main page</a></li>\n",
    "<li id=\"n-contents\"><a href=\"/wiki/Portal:Contents\" title=\"Guides to browsing Wikipedia\">Contents</a></li>\n",
    "<li id=\"n-featuredcontent\"><a href=\"/wiki/Portal:Featured_content\" title=\"Featured content the best of Wikipedia\">Featured content</a></li>\n",
    "<li id=\"n-currentevents\"><a href=\"/wiki/Portal:Current_events\" title=\"Find background information on current events\">Current events</a></li>\n",
    "<li id=\"n-randompage\"><a href=\"/wiki/Special:Random\" title=\"Load a random article [x]\" accesskey=\"x\">Random article</a></li>\n",
    "<li id=\"n-sitesupport\"><a href=\"//donate.wikimedia.org/wiki/Special:FundraiserRedirector?utm_source=donate&utm_medium=sidebar&utm_campaign=C13_en.wikipedia.org&uselang=en\" title=\"Support us\">Donate to Wikipedia</a></li>\n",
    "</ul>\n",
    "</div>\n",
    "</div>'''\n",
    "returned_tupples=link_text_detector(html)\n",
    "check_tupples=[(\"/wiki/Main_Page\",\"Main page\")\n",
    ",(\"/wiki/Portal:Contents\",\"Contents\")\n",
    ",(\"/wiki/Portal:Featured_content\",\"Featured content\")\n",
    ",(\"/wiki/Portal:Current_events\",\"Current events\")\n",
    ",(\"/wiki/Special:Random\",\"Random article\")\n",
    ",(\"//donate.wikimedia.org/wiki/Special:FundraiserRedirector?utm_source=donate&utm_medium=sidebar&utm_campaign=C13_en.wikipedia.org&uselang=en\",\"Donate to Wikipedia\")]\n",
    "try:\n",
    "    \n",
    "    if(len(returned_tupples)!=len(check_tupples)):\n",
    "        print(\"Error: Length of tupple lists not equal\")\n",
    "    else:\n",
    "        for p1, p2 in zip(check_tupples, returned_tupples):\n",
    "            if(p1[0]==p2[0] and p1[1]==p2[1]):\n",
    "                print(\"Check Passed\",p1[0],p1[1])\n",
    "            else:\n",
    "                print(\"Test Failed\\nRequired: \",p1[0],p1[1],\"\\nGot:\",p2[0],p2[1])\n",
    "                break\n",
    "except:\n",
    "    print(\"Exception occured\")\n",
    "# ** Code Above is to test your implementation of link_text_detector (Do Not Modify). ** #"
   ]
  },
  {
   "cell_type": "markdown",
   "metadata": {
    "colab_type": "text",
    "id": "nXzr03SuEJnM"
   },
   "source": [
    "### iii. Word Finder\n",
    "Given some sentences and words, for each of these words you are to find the count of its occurences in all the sentences.<b>We define a word as a non-empty maximum sequence of characters that can contain only lowercase letters, uppercase letters, digits and underscores '_'.</b><br>\n",
    "Example:\n",
    "<blockquote>rare21 pepe (pepe) rare rare-pepe rare_pepe rare'pepe pepe123 pepe,rare.</blockquote>\n",
    "Occurance count for word <b>pepe</b>:\n",
    "<blockquote>5</blockquote>\n",
    "Explaination for occuranc count:\n",
    "<ul>\n",
    "<li>pepe is a single word(Counted)</li>\n",
    "<li>(pepe) is preceeded by '(' and followed by ')', so it's the second word(Counted)</li>\n",
    "<li>rare-pepe is considered as two words and 'pepe' is the second word(Counted)</li>\n",
    "<li>rare_pepe is a single single word(NotCounted)</li>\n",
    "<li>pepe123 is a single single word(NotCounted)</li>\n",
    "<li>rare'pepe is considered as two words and 'pepe' is the second word(Counted)</li>\n",
    "<li>pepe, as it is preceeded by a space and followed by a dot ','(Counted)</li>\n",
    "</ul>"
   ]
  },
  {
   "cell_type": "code",
   "execution_count": 6,
   "metadata": {
    "colab": {},
    "colab_type": "code",
    "id": "cEQ1lvjUEJnN"
   },
   "outputs": [],
   "source": [
    "def word_finder(sentences,words):\n",
    "    \"\"\" Checks if parenthesis are balanced and properly ordered.\n",
    "    args:\n",
    "        sentences: list -- list of sentences\n",
    "        words: list -- list of words\n",
    "    Outputs:\n",
    "        word_finder_list: list -- list of tupples (word,count)\n",
    "    \"\"\"\n",
    "    word_finder_list = []\n",
    "    ## ***** START OF YOUR CODE **** ##\n",
    "    for word,sentence in zip(words,sentences):\n",
    "        exp=r\"(?<![_\\w\\d]){}(?![\\d\\w])\".format(word)\n",
    "        lst = re.findall(exp,sentence)\n",
    "        word_finder_list.append((word,len(lst)))\n",
    "    \n",
    "    \n",
    "    ## ***** END OF YOUR CODE ***** ##\n",
    "    return word_finder_list\n"
   ]
  },
  {
   "cell_type": "code",
   "execution_count": 7,
   "metadata": {
    "colab": {},
    "colab_type": "code",
    "id": "GsDOsc5uEJnQ"
   },
   "outputs": [
    {
     "name": "stdout",
     "output_type": "stream",
     "text": [
      "3 3\n",
      "Check Passed pepe 5\n",
      "Check Passed foo 6\n",
      "Check Passed bamboozled 4\n"
     ]
    }
   ],
   "source": [
    "# ** Code Below is to test your implementation of word_finder (Do Not Modify). ** #\n",
    "sentences=[\"rare21 pepe (rare) pepe rare-pepe rare_pepe foo'pepe pepe123 pepe,rare.\",\n",
    "        \"foo bar (foo) bar foo-bar foo_bar foo'bar bar-foo bar, foo.\",\n",
    "        \"bamboozled bamboozled-doggo bamboozled_doggo doggo bamboozled bamboozled2 bamboozled*doggo\",]\n",
    "words=[\"pepe\",\"foo\",\"bamboozled\"]\n",
    "counts=[(\"pepe\",5),(\"foo\",6),(\"bamboozled\",4)]\n",
    "output=word_finder(sentences,words)\n",
    "try:\n",
    "    print(len(counts),len(output))\n",
    "    if(len(counts)!=len(output)):\n",
    "        print(\"Error: Length of tupple lists not equal\")\n",
    "    else:\n",
    "        for p1, p2 in zip(counts, output):\n",
    "            if(p1[0]==p2[0] and p1[1]==p2[1]):\n",
    "                print(\"Check Passed\",p1[0],p1[1])\n",
    "            else:\n",
    "                print(\"Test Failed\\nRequired: \",p1[0],p1[1],\"\\nGot:\",p2[0],p2[1])\n",
    "                break\n",
    "except:\n",
    "    print(\"Exception occured\")\n",
    "# ** Code Above is to test your implementation of word_finder (Do Not Modify). ** #"
   ]
  },
  {
   "cell_type": "markdown",
   "metadata": {
    "colab_type": "text",
    "id": "1Rb4QpXTEJnT"
   },
   "source": [
    "## 2) Minimum Edit Distance\n",
    "You are to design a general purpose solution for minimum edit distance that works for different values of insertion, deletion, subsitution. <a href=\"https://web.stanford.edu/class/cs124/lec/med.pdf\">Slides</a>"
   ]
  },
  {
   "cell_type": "code",
   "execution_count": 8,
   "metadata": {
    "colab": {},
    "colab_type": "code",
    "id": "oOEmE4VeEJnU"
   },
   "outputs": [],
   "source": [
    "def minimum_edit_distance(source,target,cost_insertion,cost_deletion,cost_subsitution):\n",
    "    \"\"\" Implement the minimum edit distance algorithm.\n",
    "    args:\n",
    "        source: str -- source string\n",
    "        target: str -- target string\n",
    "        cost_insertion: int -- cost of insertion\n",
    "        cost_subsitution: int -- cost of subsitution\n",
    "        cost_deletion: int -- cost of deletion\n",
    "    Outputs:\n",
    "        min_edit_dist: int -- minimum edit distance\n",
    "    \"\"\"\n",
    "    rows = len(source)+1\n",
    "    columns = len(target)+1\n",
    "    arr = [[0 for x in range(columns)] for x in range(rows)]\n",
    "\n",
    "    \n",
    "    for i in range(1, rows):\n",
    "        arr[i][0] = i\n",
    "\n",
    "    for i in range(1, columns):\n",
    "        arr[0][i] = i\n",
    "        \n",
    "    for col in range(1, columns):\n",
    "        for row in range(1, rows):\n",
    "            if source[row-1] == target[col-1]:\n",
    "                cost = 0\n",
    "            else:\n",
    "                cost = cost_subsitution\n",
    "            \n",
    "            arr[row][col] = min(arr[row-1][col] + cost_deletion,arr[row][col-1] + cost_insertion,arr[row-1][col-1] + cost) \n",
    "            \n",
    " \n",
    "    return arr[-1][-1]\n",
    "\n"
   ]
  },
  {
   "cell_type": "code",
   "execution_count": 9,
   "metadata": {
    "colab": {},
    "colab_type": "code",
    "id": "CGWu2JqMEJnX"
   },
   "outputs": [],
   "source": [
    "# ** Code Below is to test your implementation of minimum_edit_distance (Do Not Modify). ** #\n",
    "test_cases=[(\"intention\",\"execution\",1,1,2,8),(\"intention\",\"execution\",1,1,1,5),(\"trails\",\"ziel\",1,1,2,6),(\"intention\",\"execution\",2,2,2,9),(\"trails\",\"ziel\",1,2,2,7),(\"trails\",\"ziel\",2,1,1,5)]\n",
    "for case in test_cases:\n",
    "    output=minimum_edit_distance(case[0],case[1],case[2],case[3],case[4])\n",
    "    if(case[5]==output):\n",
    "        continue\n",
    "    else:\n",
    "        print(\"failed, for source:\",case[0],\" and target:\",case[1],\"\\nintertion,deletion and subsitution cost:\",case[2],case[3],case[4],\"\\nExpected output\",case[5],\" Got:\",output)\n",
    "        break\n",
    "# ** Code Above is to test your implementation of minimum_edit_distance (Do Not Modify). ** #"
   ]
  },
  {
   "cell_type": "markdown",
   "metadata": {
    "colab_type": "text",
    "id": "Wd-JmKN0EJnZ"
   },
   "source": [
    "## 3) NLTK\n",
    "In this part of the assignment you will be introduced to natural language toolkit or nltk. NLTK is the swiss army knife of natural language processing it contains many corporas, basic machine learning algorithm and text preprocessing techniques.  But it is primarily used for preprocessing step in the machine learning pipeline.\n",
    "This part of the assignment is meant to be an introduction to the following form nltk:\n",
    "<ul>\n",
    "<li>Tokenization</li>\n",
    "<li>Stopwords removal</li>\n",
    "<li>Stemming</li>\n",
    "<li>Lemmatization</li>\n",
    "<li>Frequence Distribution</li>\n",
    "</ul>\n",
    "First run the command in the cell below, it should open a GUI from where you can download different packages, collections ,models and corporas. For now, install the book collection. You can also use the command <b>nltk.download('package_name')</b> instead of using the GUI."
   ]
  },
  {
   "cell_type": "code",
   "execution_count": 10,
   "metadata": {
    "colab": {},
    "colab_type": "code",
    "id": "rIGwCxjSEJna"
   },
   "outputs": [
    {
     "name": "stdout",
     "output_type": "stream",
     "text": [
      "NLTK Downloader\n",
      "---------------------------------------------------------------------------\n",
      "    d) Download   l) List    u) Update   c) Config   h) Help   q) Quit\n",
      "---------------------------------------------------------------------------\n",
      "Downloader> q\n"
     ]
    },
    {
     "data": {
      "text/plain": [
       "True"
      ]
     },
     "execution_count": 10,
     "metadata": {},
     "output_type": "execute_result"
    }
   ],
   "source": [
    "import nltk\n",
    "nltk.download()\n"
   ]
  },
  {
   "cell_type": "code",
   "execution_count": 11,
   "metadata": {
    "colab": {},
    "colab_type": "code",
    "id": "hqSTHiAlEJnc"
   },
   "outputs": [
    {
     "name": "stdout",
     "output_type": "stream",
     "text": [
      "*** Introductory Examples for the NLTK Book ***\n",
      "Loading text1, ..., text9 and sent1, ..., sent9\n",
      "Type the name of the text or sentence to view it.\n",
      "Type: 'texts()' or 'sents()' to list the materials.\n",
      "text1: Moby Dick by Herman Melville 1851\n",
      "text2: Sense and Sensibility by Jane Austen 1811\n",
      "text3: The Book of Genesis\n",
      "text4: Inaugural Address Corpus\n",
      "text5: Chat Corpus\n",
      "text6: Monty Python and the Holy Grail\n",
      "text7: Wall Street Journal\n",
      "text8: Personals Corpus\n",
      "text9: The Man Who Was Thursday by G . K . Chesterton 1908\n"
     ]
    }
   ],
   "source": [
    "from nltk.book import *"
   ]
  },
  {
   "cell_type": "markdown",
   "metadata": {
    "colab_type": "text",
    "id": "qb9vaGg_EJnf"
   },
   "source": [
    "The texts are stored in the varables text1,text2 and so on, we will be using text 3"
   ]
  },
  {
   "cell_type": "code",
   "execution_count": 12,
   "metadata": {
    "colab": {},
    "colab_type": "code",
    "id": "GeBX6IMUEJng"
   },
   "outputs": [
    {
     "name": "stderr",
     "output_type": "stream",
     "text": [
      "Building ngram index...\n"
     ]
    },
    {
     "name": "stdout",
     "output_type": "stream",
     "text": [
      "laid by her , and said unto Cain , Where art thou , and said , Go to ,\n",
      "I will not do it for ten ' s sons ; we dreamed each man according to\n",
      "their generatio the firstborn said unto Laban , Because I said , Nay ,\n",
      "but Sarah shall her name be . , duke Elah , duke Shobal , and Akan .\n",
      "and looked upon my affliction . Bashemath Ishmael ' s blood , but Isra\n",
      "for as a prince hast thou found of all the cattle in the valley , and\n",
      "the wo The\n"
     ]
    },
    {
     "data": {
      "text/plain": [
       "\"laid by her , and said unto Cain , Where art thou , and said , Go to ,\\nI will not do it for ten ' s sons ; we dreamed each man according to\\ntheir generatio the firstborn said unto Laban , Because I said , Nay ,\\nbut Sarah shall her name be . , duke Elah , duke Shobal , and Akan .\\nand looked upon my affliction . Bashemath Ishmael ' s blood , but Isra\\nfor as a prince hast thou found of all the cattle in the valley , and\\nthe wo The\""
      ]
     },
     "execution_count": 12,
     "metadata": {},
     "output_type": "execute_result"
    }
   ],
   "source": [
    "text3.generate()\n"
   ]
  },
  {
   "cell_type": "markdown",
   "metadata": {
    "colab_type": "text",
    "id": "kSVUcr5ZEJni"
   },
   "source": [
    "Although the code below is redundant, we want to to use <b>tokenizer from nltk to tokenize the data</b>. The data by default is in tokenized form as demonstrated below"
   ]
  },
  {
   "cell_type": "code",
   "execution_count": 13,
   "metadata": {
    "colab": {},
    "colab_type": "code",
    "id": "HdTWCLEKEJnj"
   },
   "outputs": [
    {
     "name": "stdout",
     "output_type": "stream",
     "text": [
      "['In', 'the', 'beginning', 'God', 'created', 'the', 'heaven', 'and', 'the', 'earth', '.', 'And', 'the', 'earth', 'was']\n"
     ]
    }
   ],
   "source": [
    "corpora=\" \".join(text3)#joins the token based on space delimiter\n",
    "print(text3[:15])#prints the first fifteen tokens"
   ]
  },
  {
   "cell_type": "markdown",
   "metadata": {
    "colab_type": "text",
    "id": "2TwhBKdQEJnm"
   },
   "source": [
    "For all of tasks below consult the documentation <a href=\"https://www.nltk.org/book/ch01.html\">here</a>"
   ]
  },
  {
   "cell_type": "markdown",
   "metadata": {
    "colab_type": "text",
    "id": "7iq3Kn3vEJnn"
   },
   "source": [
    "### a)Tokenization\n",
    "Tokenize text3 and print the first 20 tokens. For those of you who are new to python its a good time to learn about <a href=\"https://railsware.com/blog/python-for-machine-learning-indexing-and-slicing-for-lists-tuples-strings-and-other-sequential-types/\">array slices</a>.\n",
    "<br><a href=\"https://www.nltk.org/api/nltk.tokenize.html\">Tokenize Documentation</a>"
   ]
  },
  {
   "cell_type": "code",
   "execution_count": 14,
   "metadata": {
    "colab": {},
    "colab_type": "code",
    "id": "X4bmlsT8EJnp"
   },
   "outputs": [],
   "source": [
    "from nltk.tokenize import word_tokenize"
   ]
  },
  {
   "cell_type": "code",
   "execution_count": 15,
   "metadata": {
    "colab": {},
    "colab_type": "code",
    "id": "yrd4RMuoEJnr"
   },
   "outputs": [
    {
     "name": "stderr",
     "output_type": "stream",
     "text": [
      "Building ngram index...\n"
     ]
    },
    {
     "name": "stdout",
     "output_type": "stream",
     "text": [
      "laid by her , and said unto Cain , Where art thou , and said , Go to ,\n",
      "I will not do it for ten ' s sons ; we dreamed each man according to\n",
      "their generatio the firstborn said unto Laban , Because I said , Nay ,\n",
      "but Sarah shall her name be . , duke Elah , duke Shobal , and Akan .\n",
      "and looked upon my affliction . Bashemath Ishmael ' s blood , but Isra\n",
      "for as a prince hast thou found of all the cattle in the valley , and\n",
      "the wo The\n"
     ]
    },
    {
     "data": {
      "text/plain": [
       "['laid',\n",
       " 'by',\n",
       " 'her',\n",
       " ',',\n",
       " 'and',\n",
       " 'said',\n",
       " 'unto',\n",
       " 'Cain',\n",
       " ',',\n",
       " 'Where',\n",
       " 'art',\n",
       " 'thou',\n",
       " ',',\n",
       " 'and',\n",
       " 'said',\n",
       " ',',\n",
       " 'Go',\n",
       " 'to',\n",
       " ',',\n",
       " 'I']"
      ]
     },
     "execution_count": 15,
     "metadata": {},
     "output_type": "execute_result"
    }
   ],
   "source": [
    "def tokenize(text):\n",
    "    \"\"\" Tokenize the text using word_tokenize\n",
    "    args:\n",
    "        text: str -- corpus\n",
    "    Outputs:\n",
    "        tokens: list of word tokens\n",
    "    \"\"\"\n",
    "    tokens=[]\n",
    "    ## ***** START OF YOUR CODE **** ##\n",
    "    tokens=word_tokenize(text3.generate())\n",
    "    \n",
    "    \n",
    "    ## ***** END OF YOUR CODE ***** ##\n",
    "    return tokens\n",
    "    \n",
    "tokenized=tokenize(corpora)\n",
    "tokenized[:20]\n",
    "#add code here to print first 20 tokens"
   ]
  },
  {
   "cell_type": "markdown",
   "metadata": {
    "colab_type": "text",
    "id": "vBL5HG2eEJnt"
   },
   "source": [
    "### b)Total count of  tokens\n"
   ]
  },
  {
   "cell_type": "code",
   "execution_count": 16,
   "metadata": {
    "colab": {},
    "colab_type": "code",
    "id": "RlvQToDOEJnu"
   },
   "outputs": [
    {
     "name": "stdout",
     "output_type": "stream",
     "text": [
      "Total token count 44764\n"
     ]
    }
   ],
   "source": [
    "def token_count(tokens):\n",
    "    \"\"\" Total count of tokens\n",
    "    args:\n",
    "        tokens: list of word tokens\n",
    "    Outputs:\n",
    "        count : int -- number of total tokens (integer)\n",
    "    \"\"\"\n",
    "    count=0\n",
    "    ## ***** START OF YOUR CODE **** ##\n",
    "    count=len(text3)\n",
    "    \n",
    "    ## ***** END OF YOUR CODE ***** ##\n",
    "    return count #return token count\n",
    "\n",
    "total_tokens=token_count(tokenized)\n",
    "print(\"Total token count\",total_tokens)"
   ]
  },
  {
   "cell_type": "markdown",
   "metadata": {
    "colab_type": "text",
    "id": "Az5LQ4sGEJnw"
   },
   "source": [
    "### c)Total count of unique tokens"
   ]
  },
  {
   "cell_type": "code",
   "execution_count": 17,
   "metadata": {
    "colab": {},
    "colab_type": "code",
    "id": "6k9tTrkgEJny"
   },
   "outputs": [
    {
     "name": "stdout",
     "output_type": "stream",
     "text": [
      "Total unique token count 2789\n"
     ]
    }
   ],
   "source": [
    "def token_count_unique(tokens):\n",
    "    \"\"\" Total count of unique tokens\n",
    "    args:\n",
    "        tokens: list of word tokens\n",
    "    Outputs:\n",
    "        count : int -- number of total unique tokens (integer)\n",
    "    \"\"\"\n",
    "    unique_count=0\n",
    "    ## ***** START OF YOUR CODE **** ##\n",
    "    unique_count=len(set(text3))\n",
    "    \n",
    "    ## ***** END OF YOUR CODE ***** ##\n",
    "    return unique_count#return unique token count\n",
    "total_tokens_unique=token_count_unique(tokenized)\n",
    "print(\"Total unique token count\",total_tokens_unique)"
   ]
  },
  {
   "cell_type": "markdown",
   "metadata": {
    "colab_type": "text",
    "id": "QCXGPEnjEJn0"
   },
   "source": [
    "### d)Vocabulary\n",
    "Print the entire vocabilary, here you should keep the definition of vocabulary in mind."
   ]
  },
  {
   "cell_type": "code",
   "execution_count": 18,
   "metadata": {
    "colab": {},
    "colab_type": "code",
    "id": "YvN23xOdEJn1"
   },
   "outputs": [
    {
     "name": "stdout",
     "output_type": "stream",
     "text": [
      "{'Bashemath', 'according', 'Akan', 'prince', 'thou', 'man', 'affliction', 'looked', 'and', 'their', 'the', 'said', 'of', 'Nay', 'valley', 'sons', 'Isra', 'a', 'art', 'found', 'laid', 'her', 'will', 'my', 'for', 'Cain', 'upon', 's', 'I', 'not', 'wo', ',', 'The', 'Where', 'be', 'shall', 'Ishmael', 'to', 'dreamed', 'it', 'Shobal', 'firstborn', 'Because', \"'\", 'Sarah', 'all', 'generatio', 'each', 'name', ';', 'Go', 'Elah', 'do', 'duke', 'hast', 'Laban', 'in', 'unto', 'cattle', 'we', 'as', '.', 'blood', 'but', 'by', 'ten'}\n"
     ]
    }
   ],
   "source": [
    "def vocabulary(tokens):\n",
    "    \"\"\" Print entire vocabulary\n",
    "    args:\n",
    "        tokens: list of word tokens\n",
    "    Outputs:\n",
    "        list : vocabulary(tokens)\n",
    "    \"\"\"\n",
    "    ## ***** START OF YOUR CODE **** ##\n",
    "                                                                                                                                                                                                                                                                                                                                                                                                                                                                                                                                                                                                                                                                       \n",
    "    \n",
    "    ## ***** END OF YOUR CODE ***** ##\n",
    "    return set(sorted(tokens)) #returns a list of tokens\n",
    "print(vocabulary(tokenized))"
   ]
  },
  {
   "cell_type": "markdown",
   "metadata": {
    "colab_type": "text",
    "id": "7BpS0qBDEJn4"
   },
   "source": [
    "### e)Frequency Distribution\n",
    "Print the Frequency Distribution for the top 50 words."
   ]
  },
  {
   "cell_type": "code",
   "execution_count": 19,
   "metadata": {
    "colab": {},
    "colab_type": "code",
    "id": "c7ZM49LgEJn4"
   },
   "outputs": [],
   "source": [
    "from nltk import FreqDist"
   ]
  },
  {
   "cell_type": "code",
   "execution_count": 20,
   "metadata": {
    "colab": {},
    "colab_type": "code",
    "id": "_yrwM9UoEJn6"
   },
   "outputs": [
    {
     "data": {
      "text/plain": [
       "[(',', 13),\n",
       " ('and', 5),\n",
       " ('said', 4),\n",
       " ('the', 4),\n",
       " ('.', 3),\n",
       " ('her', 2),\n",
       " ('unto', 2),\n",
       " ('thou', 2),\n",
       " ('to', 2),\n",
       " ('I', 2),\n",
       " ('for', 2),\n",
       " (\"'\", 2),\n",
       " ('s', 2),\n",
       " ('but', 2),\n",
       " ('duke', 2),\n",
       " ('laid', 1),\n",
       " ('by', 1),\n",
       " ('Cain', 1),\n",
       " ('Where', 1),\n",
       " ('art', 1),\n",
       " ('Go', 1),\n",
       " ('will', 1),\n",
       " ('not', 1),\n",
       " ('do', 1),\n",
       " ('it', 1),\n",
       " ('ten', 1),\n",
       " ('sons', 1),\n",
       " (';', 1),\n",
       " ('we', 1),\n",
       " ('dreamed', 1),\n",
       " ('each', 1),\n",
       " ('man', 1),\n",
       " ('according', 1),\n",
       " ('their', 1),\n",
       " ('generatio', 1),\n",
       " ('firstborn', 1),\n",
       " ('Laban', 1),\n",
       " ('Because', 1),\n",
       " ('Nay', 1),\n",
       " ('Sarah', 1),\n",
       " ('shall', 1),\n",
       " ('name', 1),\n",
       " ('be', 1),\n",
       " ('Elah', 1),\n",
       " ('Shobal', 1),\n",
       " ('Akan', 1),\n",
       " ('looked', 1),\n",
       " ('upon', 1),\n",
       " ('my', 1),\n",
       " ('affliction', 1)]"
      ]
     },
     "execution_count": 20,
     "metadata": {},
     "output_type": "execute_result"
    }
   ],
   "source": [
    "def frequency_distribution(tokens):\n",
    "    \"\"\" Print entire vocabulary\n",
    "    args:\n",
    "        tokens: list of word tokens\n",
    "    Outputs:\n",
    "         frequency_distribution: FreqDist -- frequency disribution\n",
    "    \"\"\"\n",
    "    ## ***** START OF YOUR CODE **** ##\n",
    "    _frequency_distribution=FreqDist(tokens)\n",
    "    ## ***** END OF YOUR CODE ***** ##\n",
    "    return _frequency_distribution\n",
    "    \n",
    "freqdist=frequency_distribution(tokenized)\n",
    "freqdist.most_common(50)\n",
    "#add code here to print top 50 words"
   ]
  },
  {
   "cell_type": "markdown",
   "metadata": {
    "colab_type": "text",
    "id": "Z7cm-qsZEJoC"
   },
   "source": [
    "### f) Bigram Frequence Distribution\n",
    "Print the Bigram Frequence Distribution for top 50 bigrams"
   ]
  },
  {
   "cell_type": "code",
   "execution_count": 21,
   "metadata": {
    "colab": {},
    "colab_type": "code",
    "id": "bUOWw9_vEJoD"
   },
   "outputs": [
    {
     "data": {
      "text/plain": [
       "[((',', 'and'), 4),\n",
       " (('and', 'said'), 2),\n",
       " (('said', 'unto'), 2),\n",
       " (('said', ','), 2),\n",
       " ((\"'\", 's'), 2),\n",
       " ((',', 'but'), 2),\n",
       " ((',', 'duke'), 2),\n",
       " (('laid', 'by'), 1),\n",
       " (('by', 'her'), 1),\n",
       " (('her', ','), 1),\n",
       " (('unto', 'Cain'), 1),\n",
       " (('Cain', ','), 1),\n",
       " ((',', 'Where'), 1),\n",
       " (('Where', 'art'), 1),\n",
       " (('art', 'thou'), 1),\n",
       " (('thou', ','), 1),\n",
       " ((',', 'Go'), 1),\n",
       " (('Go', 'to'), 1),\n",
       " (('to', ','), 1),\n",
       " ((',', 'I'), 1),\n",
       " (('I', 'will'), 1),\n",
       " (('will', 'not'), 1),\n",
       " (('not', 'do'), 1),\n",
       " (('do', 'it'), 1),\n",
       " (('it', 'for'), 1),\n",
       " (('for', 'ten'), 1),\n",
       " (('ten', \"'\"), 1),\n",
       " (('s', 'sons'), 1),\n",
       " (('sons', ';'), 1),\n",
       " ((';', 'we'), 1),\n",
       " (('we', 'dreamed'), 1),\n",
       " (('dreamed', 'each'), 1),\n",
       " (('each', 'man'), 1),\n",
       " (('man', 'according'), 1),\n",
       " (('according', 'to'), 1),\n",
       " (('to', 'their'), 1),\n",
       " (('their', 'generatio'), 1),\n",
       " (('generatio', 'the'), 1),\n",
       " (('the', 'firstborn'), 1),\n",
       " (('firstborn', 'said'), 1),\n",
       " (('unto', 'Laban'), 1),\n",
       " (('Laban', ','), 1),\n",
       " ((',', 'Because'), 1),\n",
       " (('Because', 'I'), 1),\n",
       " (('I', 'said'), 1),\n",
       " ((',', 'Nay'), 1),\n",
       " (('Nay', ','), 1),\n",
       " (('but', 'Sarah'), 1),\n",
       " (('Sarah', 'shall'), 1),\n",
       " (('shall', 'her'), 1)]"
      ]
     },
     "execution_count": 21,
     "metadata": {},
     "output_type": "execute_result"
    }
   ],
   "source": [
    "def frequency_distribution_bigram(text):\n",
    "    \"\"\" Print entire vocabulary\n",
    "    args:\n",
    "        tokens: list of word tokens\n",
    "    Outputs:\n",
    "        frequency_distribution_bigram: FreqDist -- frequency distribution of bigrams\n",
    "    \"\"\"\n",
    "    ## ***** START OF YOUR CODE **** ##\n",
    "    bigrams = nltk.bigrams(text)\n",
    "    frequency_distribution_bigram=nltk.FreqDist(bigrams)\n",
    "        \n",
    "    \n",
    "    ## ***** END OF YOUR CODE ***** ##\n",
    "    return frequency_distribution_bigram#returns a Frequency Distribution of bigrams\n",
    "\n",
    "freq_dist=frequency_distribution_bigram(tokenized)\n",
    "freq_dist.most_common(50)\n",
    "\n",
    "\n",
    "#add code here to print top 50 bigrams"
   ]
  },
  {
   "cell_type": "markdown",
   "metadata": {
    "colab_type": "text",
    "id": "Y-rBpzlnEJoG"
   },
   "source": [
    "### f)Compute lexical diversity\n",
    "Here we will define lexical diversity as the ratio between the number of unique tokens and total number of tokens."
   ]
  },
  {
   "cell_type": "code",
   "execution_count": 22,
   "metadata": {
    "colab": {},
    "colab_type": "code",
    "id": "X-o2ysGyEJoG"
   },
   "outputs": [
    {
     "name": "stdout",
     "output_type": "stream",
     "text": [
      "Lexical diversity score 0.66\n"
     ]
    }
   ],
   "source": [
    "def lexical_diversity(tokens):\n",
    "    \"\"\" Print entire vocabulary\n",
    "    args:\n",
    "        tokens: list of word tokens\n",
    "    Outputs:\n",
    "        diversity_score: float -- lexical diversity \n",
    "    \"\"\"\n",
    "    ## ***** START OF YOUR CODE **** ##\n",
    "    diversity_score=len(set(tokens))/len(tokens)\n",
    "    \n",
    "    ## ***** END OF YOUR CODE ***** ##\n",
    "    return diversity_score\n",
    "\n",
    "lexical_diversity_score=lexical_diversity(tokenized)\n",
    "print(\"Lexical diversity score\",lexical_diversity_score)"
   ]
  },
  {
   "cell_type": "markdown",
   "metadata": {
    "colab_type": "text",
    "id": "wTNzsicUEJoJ"
   },
   "source": [
    "### g)Remove Stopwords\n",
    "Read the documentation and remove the <a href=\"https://en.wikipedia.org/wiki/Stop_words\">stopwords</a> in `tokenized` list "
   ]
  },
  {
   "cell_type": "code",
   "execution_count": 23,
   "metadata": {
    "colab": {},
    "colab_type": "code",
    "id": "Z4Sb3ktWEJoJ"
   },
   "outputs": [],
   "source": [
    "from nltk.corpus import stopwords"
   ]
  },
  {
   "cell_type": "code",
   "execution_count": 24,
   "metadata": {
    "colab": {},
    "colab_type": "code",
    "id": "wf14EDbNEJoM"
   },
   "outputs": [],
   "source": [
    "def remove_stopwords(tokens):\n",
    "    \"\"\" Remove stopwords\n",
    "    args:\n",
    "        tokens: list -- list of word tokens\n",
    "    Outputs:\n",
    "        stopwords_removed_tokens: list -- list of tokens with stopwords removed\n",
    "    \"\"\"\n",
    "    ## ***** START OF YOUR CODE **** ##\n",
    "    words=stopwords.words('english')\n",
    "    stopwords_removed_tokens=[i for i in tokens if i not in words]\n",
    "    \n",
    "    ## ***** END OF YOUR CODE ***** ##\n",
    "    return stopwords_removed_tokens\n",
    "tokenized_stopword=remove_stopwords(tokenized)\n"
   ]
  },
  {
   "cell_type": "code",
   "execution_count": 25,
   "metadata": {
    "colab": {},
    "colab_type": "code",
    "id": "2_SzKfbGr63_"
   },
   "outputs": [
    {
     "name": "stdout",
     "output_type": "stream",
     "text": [
      "['laid', ',', 'said', 'unto', 'Cain', ',', 'Where', 'art', 'thou', ',', 'said', ',', 'Go', ',', 'I', 'ten', \"'\", 'sons', ';', 'dreamed', 'man', 'according', 'generatio', 'firstborn', 'said', 'unto', 'Laban', ',', 'Because', 'I', 'said', ',', 'Nay', ',', 'Sarah', 'shall', 'name', '.', ',', 'duke', 'Elah', ',', 'duke', 'Shobal', ',', 'Akan', '.', 'looked', 'upon', 'affliction', '.', 'Bashemath', 'Ishmael', \"'\", 'blood', ',', 'Isra', 'prince', 'hast', 'thou', 'found', 'cattle', 'valley', ',', 'wo', 'The']\n"
     ]
    }
   ],
   "source": [
    "print(tokenized_stopword)\n"
   ]
  },
  {
   "cell_type": "markdown",
   "metadata": {
    "colab_type": "text",
    "id": "KgKuGmDpEJoO"
   },
   "source": [
    "### h)Lemmatization\n",
    "Apply <a href=\"https://en.wikipedia.org/wiki/Lemmatisation\">Lemmatization</a> the words in `tokenized` list and see its effects on the token list."
   ]
  },
  {
   "cell_type": "code",
   "execution_count": 26,
   "metadata": {
    "colab": {},
    "colab_type": "code",
    "id": "eevtSKUhEJoP"
   },
   "outputs": [],
   "source": [
    "from nltk.stem import WordNetLemmatizer"
   ]
  },
  {
   "cell_type": "code",
   "execution_count": 27,
   "metadata": {
    "colab": {},
    "colab_type": "code",
    "id": "W2ep0yIwEJoS"
   },
   "outputs": [],
   "source": [
    "lemmatizer=WordNetLemmatizer()\n",
    "def lemmatization(tokens):\n",
    "    \"\"\" Apply lemamatization\n",
    "    args:\n",
    "        tokens: list -- list of word tokens\n",
    "    Outputs:\n",
    "        lemmatized_tokens: list -- list of lemmatized word tokens\n",
    "    \"\"\"\n",
    "    ## ***** START OF YOUR CODE **** ##\n",
    "    \n",
    "    lemmatized_tokens=[]\n",
    "    for word in tokens:\n",
    "        lemmatized_tokens.append(lemmatizer.lemmatize(word))\n",
    "    ## ***** END OF YOUR CODE ***** ##\n",
    "    return lemmatized_tokens\n",
    "lemmatized_tokens=lemmatization(tokenized)"
   ]
  },
  {
   "cell_type": "code",
   "execution_count": 28,
   "metadata": {
    "colab": {},
    "colab_type": "code",
    "id": "LaYsy1Pkr64H"
   },
   "outputs": [
    {
     "name": "stdout",
     "output_type": "stream",
     "text": [
      "['laid', 'by', 'her', ',', 'and', 'said', 'unto', 'Cain', ',', 'Where', 'art', 'thou', ',', 'and', 'said', ',', 'Go', 'to', ',', 'I', 'will', 'not', 'do', 'it', 'for', 'ten', \"'\", 's', 'son', ';', 'we', 'dreamed', 'each', 'man', 'according', 'to', 'their', 'generatio', 'the', 'firstborn', 'said', 'unto', 'Laban', ',', 'Because', 'I', 'said', ',', 'Nay', ',', 'but', 'Sarah', 'shall', 'her', 'name', 'be', '.', ',', 'duke', 'Elah', ',', 'duke', 'Shobal', ',', 'and', 'Akan', '.', 'and', 'looked', 'upon', 'my', 'affliction', '.', 'Bashemath', 'Ishmael', \"'\", 's', 'blood', ',', 'but', 'Isra', 'for', 'a', 'a', 'prince', 'hast', 'thou', 'found', 'of', 'all', 'the', 'cattle', 'in', 'the', 'valley', ',', 'and', 'the', 'wo', 'The']\n"
     ]
    }
   ],
   "source": [
    "print(lemmatized_tokens)"
   ]
  },
  {
   "cell_type": "markdown",
   "metadata": {
    "colab_type": "text",
    "id": "n9cjn2TZEJoW"
   },
   "source": [
    "### i)Stemming\n",
    "Apply <a href=\"https://en.wikipedia.org/wiki/Stemming\">Stemming</a> to the words in `tokenized` list list and see its effects on the token list."
   ]
  },
  {
   "cell_type": "code",
   "execution_count": 29,
   "metadata": {
    "colab": {},
    "colab_type": "code",
    "id": "KbeFobzdEJoW"
   },
   "outputs": [],
   "source": [
    "from nltk.stem import PorterStemmer"
   ]
  },
  {
   "cell_type": "code",
   "execution_count": 30,
   "metadata": {
    "colab": {},
    "colab_type": "code",
    "id": "fUX2NsQcEJoY"
   },
   "outputs": [],
   "source": [
    "def stemming(tokens):\n",
    "    \"\"\" Apply Stemming\n",
    "    args:\n",
    "        tokens: list -- list of word tokens\n",
    "    Outputs:\n",
    "        stemmed_tokens: list -- list of stemmed tokens \n",
    "    \"\"\"\n",
    "    ## ***** START OF YOUR CODE **** ##\n",
    "    stemmed_tokens=[]\n",
    "    porter=PorterStemmer()\n",
    "    for i in tokens:\n",
    "        stemmed_tokens.append(porter.stem(i))\n",
    "    \n",
    "    ## ***** END OF YOUR CODE ***** ##\n",
    "    return stemmed_tokens\n",
    "stemmed_tokens=stemming(tokenized)\n",
    "tokenized_preprocessed=stemmed_tokens\n"
   ]
  },
  {
   "cell_type": "code",
   "execution_count": 31,
   "metadata": {
    "colab": {},
    "colab_type": "code",
    "id": "MqVZ92Lar64P"
   },
   "outputs": [
    {
     "name": "stdout",
     "output_type": "stream",
     "text": [
      "['laid', 'by', 'her', ',', 'and', 'said', 'unto', 'cain', ',', 'where', 'art', 'thou', ',', 'and', 'said', ',', 'Go', 'to', ',', 'I', 'will', 'not', 'do', 'it', 'for', 'ten', \"'\", 's', 'son', ';', 'we', 'dream', 'each', 'man', 'accord', 'to', 'their', 'generatio', 'the', 'firstborn', 'said', 'unto', 'laban', ',', 'becaus', 'I', 'said', ',', 'nay', ',', 'but', 'sarah', 'shall', 'her', 'name', 'be', '.', ',', 'duke', 'elah', ',', 'duke', 'shobal', ',', 'and', 'akan', '.', 'and', 'look', 'upon', 'my', 'afflict', '.', 'bashemath', 'ishmael', \"'\", 's', 'blood', ',', 'but', 'isra', 'for', 'as', 'a', 'princ', 'hast', 'thou', 'found', 'of', 'all', 'the', 'cattl', 'in', 'the', 'valley', ',', 'and', 'the', 'wo', 'the']\n"
     ]
    }
   ],
   "source": [
    "print(stemmed_tokens)"
   ]
  },
  {
   "cell_type": "markdown",
   "metadata": {
    "colab_type": "text",
    "id": "gUL6WBWTEJoa"
   },
   "source": [
    "### j)Recompute\n",
    "Now repeat parts b through e for the new `lemmatized_tokens` list"
   ]
  },
  {
   "cell_type": "code",
   "execution_count": 32,
   "metadata": {
    "colab": {},
    "colab_type": "code",
    "id": "IUK6E7mYEJob"
   },
   "outputs": [
    {
     "data": {
      "text/plain": [
       "100"
      ]
     },
     "execution_count": 32,
     "metadata": {},
     "output_type": "execute_result"
    }
   ],
   "source": [
    "count=len((stemmed_tokens))\n",
    "count"
   ]
  },
  {
   "cell_type": "code",
   "execution_count": 33,
   "metadata": {
    "colab": {},
    "colab_type": "code",
    "id": "58U8a6WYEJod"
   },
   "outputs": [
    {
     "data": {
      "text/plain": [
       "65"
      ]
     },
     "execution_count": 33,
     "metadata": {},
     "output_type": "execute_result"
    }
   ],
   "source": [
    "unique_count=len(set(stemmed_tokens))\n",
    "unique_count"
   ]
  },
  {
   "cell_type": "code",
   "execution_count": 34,
   "metadata": {
    "colab": {},
    "colab_type": "code",
    "id": "rF53voG0EJog"
   },
   "outputs": [
    {
     "data": {
      "text/plain": [
       "{\"'\",\n",
       " ',',\n",
       " '.',\n",
       " ';',\n",
       " 'Go',\n",
       " 'I',\n",
       " 'a',\n",
       " 'accord',\n",
       " 'afflict',\n",
       " 'akan',\n",
       " 'all',\n",
       " 'and',\n",
       " 'art',\n",
       " 'as',\n",
       " 'bashemath',\n",
       " 'be',\n",
       " 'becaus',\n",
       " 'blood',\n",
       " 'but',\n",
       " 'by',\n",
       " 'cain',\n",
       " 'cattl',\n",
       " 'do',\n",
       " 'dream',\n",
       " 'duke',\n",
       " 'each',\n",
       " 'elah',\n",
       " 'firstborn',\n",
       " 'for',\n",
       " 'found',\n",
       " 'generatio',\n",
       " 'hast',\n",
       " 'her',\n",
       " 'in',\n",
       " 'ishmael',\n",
       " 'isra',\n",
       " 'it',\n",
       " 'laban',\n",
       " 'laid',\n",
       " 'look',\n",
       " 'man',\n",
       " 'my',\n",
       " 'name',\n",
       " 'nay',\n",
       " 'not',\n",
       " 'of',\n",
       " 'princ',\n",
       " 's',\n",
       " 'said',\n",
       " 'sarah',\n",
       " 'shall',\n",
       " 'shobal',\n",
       " 'son',\n",
       " 'ten',\n",
       " 'the',\n",
       " 'their',\n",
       " 'thou',\n",
       " 'to',\n",
       " 'unto',\n",
       " 'upon',\n",
       " 'valley',\n",
       " 'we',\n",
       " 'where',\n",
       " 'will',\n",
       " 'wo'}"
      ]
     },
     "execution_count": 34,
     "metadata": {},
     "output_type": "execute_result"
    }
   ],
   "source": [
    "set(sorted(stemmed_tokens))"
   ]
  },
  {
   "cell_type": "code",
   "execution_count": 35,
   "metadata": {
    "colab": {},
    "colab_type": "code",
    "id": "xcIpa85kEJoj"
   },
   "outputs": [
    {
     "data": {
      "text/plain": [
       "[(',', 13),\n",
       " ('and', 5),\n",
       " ('the', 5),\n",
       " ('said', 4),\n",
       " ('.', 3),\n",
       " ('her', 2),\n",
       " ('unto', 2),\n",
       " ('thou', 2),\n",
       " ('to', 2),\n",
       " ('I', 2),\n",
       " ('for', 2),\n",
       " (\"'\", 2),\n",
       " ('s', 2),\n",
       " ('but', 2),\n",
       " ('duke', 2),\n",
       " ('laid', 1),\n",
       " ('by', 1),\n",
       " ('cain', 1),\n",
       " ('where', 1),\n",
       " ('art', 1),\n",
       " ('Go', 1),\n",
       " ('will', 1),\n",
       " ('not', 1),\n",
       " ('do', 1),\n",
       " ('it', 1),\n",
       " ('ten', 1),\n",
       " ('son', 1),\n",
       " (';', 1),\n",
       " ('we', 1),\n",
       " ('dream', 1),\n",
       " ('each', 1),\n",
       " ('man', 1),\n",
       " ('accord', 1),\n",
       " ('their', 1),\n",
       " ('generatio', 1),\n",
       " ('firstborn', 1),\n",
       " ('laban', 1),\n",
       " ('becaus', 1),\n",
       " ('nay', 1),\n",
       " ('sarah', 1),\n",
       " ('shall', 1),\n",
       " ('name', 1),\n",
       " ('be', 1),\n",
       " ('elah', 1),\n",
       " ('shobal', 1),\n",
       " ('akan', 1),\n",
       " ('look', 1),\n",
       " ('upon', 1),\n",
       " ('my', 1),\n",
       " ('afflict', 1)]"
      ]
     },
     "execution_count": 35,
     "metadata": {},
     "output_type": "execute_result"
    }
   ],
   "source": [
    "FreqDist(stemmed_tokens).most_common(50)"
   ]
  },
  {
   "cell_type": "markdown",
   "metadata": {
    "colab_type": "text",
    "id": "rMaOTfaWEJol"
   },
   "source": [
    "## k) Lemmatization vs Stemming\n",
    "You have learnt about [stemming](https://en.wikipedia.org/wiki/stemming) and [lemmatization](https://en.wikipedia.org/wiki/Lemmatisation) in class, usually one of them is used according to requirements of the task you are trying to solve. Discuss in what situations might one be preferable over the other? <a href=\"https://ibb.co/p3f4Wtd\">In other words</a>"
   ]
  },
  {
   "cell_type": "code",
   "execution_count": 36,
   "metadata": {
    "colab": {},
    "colab_type": "code",
    "id": "N_Nnrhq-EJom"
   },
   "outputs": [
    {
     "data": {
      "text/plain": [
       "\"\\n## ***** START OF YOUR ANSWER **** ##\\n\\nLemmatization ensure root word is in vocab of corpus while stemming doesn't.\\nWhen speed is required stemming is prefered and when accuracy is required lemmatization is.\\nLemmatization process also checks for morphological similarities b/w words while stemming doesn't\\n\\n\\n\\n## ***** END OF YOUR ANSWER **** ##\\n\""
      ]
     },
     "execution_count": 36,
     "metadata": {},
     "output_type": "execute_result"
    }
   ],
   "source": [
    "\"\"\"\n",
    "## ***** START OF YOUR ANSWER **** ##\n",
    "\n",
    "Lemmatization ensure root word is in vocab of corpus while stemming doesn't.\n",
    "When speed is required stemming is prefered and when accuracy is required lemmatization is.\n",
    "Lemmatization process also checks for morphological similarities b/w words while stemming doesn't\n",
    "\n",
    "\n",
    "\n",
    "## ***** END OF YOUR ANSWER **** ##\n",
    "\"\"\""
   ]
  },
  {
   "cell_type": "markdown",
   "metadata": {
    "colab_type": "text",
    "id": "0FDy16bcr64i"
   },
   "source": [
    "Great you're done with part 1; Now, move onto <b><a href=\"https://ibb.co/MfpxHZh\"> part 2</a></b>"
   ]
  },
  {
   "cell_type": "code",
   "execution_count": null,
   "metadata": {
    "colab": {},
    "colab_type": "code",
    "id": "oJP5-RlOr64i"
   },
   "outputs": [],
   "source": []
  }
 ],
 "metadata": {
  "colab": {
   "collapsed_sections": [
    "7iq3Kn3vEJnn",
    "vBL5HG2eEJnt",
    "Az5LQ4sGEJnw",
    "QCXGPEnjEJn0",
    "7BpS0qBDEJn4",
    "Z7cm-qsZEJoC",
    "Y-rBpzlnEJoG",
    "wTNzsicUEJoJ",
    "KgKuGmDpEJoO",
    "n9cjn2TZEJoW",
    "gUL6WBWTEJoa"
   ],
   "name": "Assignment1_notebook1_[student_ID].ipynb",
   "provenance": []
  },
  "kernelspec": {
   "display_name": "Python 3",
   "language": "python",
   "name": "python3"
  },
  "language_info": {
   "codemirror_mode": {
    "name": "ipython",
    "version": 3
   },
   "file_extension": ".py",
   "mimetype": "text/x-python",
   "name": "python",
   "nbconvert_exporter": "python",
   "pygments_lexer": "ipython3",
   "version": "3.7.4"
  }
 },
 "nbformat": 4,
 "nbformat_minor": 1
}
